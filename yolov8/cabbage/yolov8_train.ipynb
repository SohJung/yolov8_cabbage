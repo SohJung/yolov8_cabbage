{
 "cells": [
  {
   "cell_type": "code",
   "execution_count": 24,
   "id": "initial_id",
   "metadata": {
    "collapsed": true
   },
   "outputs": [
    {
     "name": "stdout",
     "output_type": "stream",
     "text": [
      "Ultralytics YOLOv8.1.24 🚀 Python-3.9.18 torch-2.2.1+cpu CPU (Intel Core(TM) i7-7700HQ 2.80GHz)\n",
      "Setup complete ✅ (8 CPUs, 15.9 GB RAM, 131.0/228.6 GB disk)\n"
     ]
    }
   ],
   "source": [
    "import ultralytics\n",
    "ultralytics.checks()"
   ]
  },
  {
   "cell_type": "code",
   "outputs": [
    {
     "name": "stdout",
     "output_type": "stream",
     "text": [
      "{'names': ['cabbage', 'haft-cabbage'], 'nc': 2, 'train': 'C:/Users/BSJ/PycharmProjects/pythonProject1/yolov8/cabbage/cabbage.v1i.yolov8/train/', 'val': 'C:/Users/BSJ/PycharmProjects/pythonProject1/yolov8/cabbage/cabbage.v1i.yolov8/valid/'}\n"
     ]
    }
   ],
   "source": [
    "import yaml\n",
    "\n",
    "data = {'train':'C:/Users/BSJ/PycharmProjects/pythonProject1/yolov8/cabbage/cabbage.v1i.yolov8/train/',\n",
    "        'val':'C:/Users/BSJ/PycharmProjects/pythonProject1/yolov8/cabbage/cabbage.v1i.yolov8/valid/',\n",
    "        'names':['cabbage', 'haft-cabbage'],\n",
    "        'nc':2}\n",
    "\n",
    "with open('C:/Users/BSJ/PycharmProjects/pythonProject1/yolov8/cabbage/cabbage.v1i.yolov8/cabbage.yaml', 'w') as f:\n",
    "    yaml.dump(data, f)\n",
    "    \n",
    "with open('C:/Users/BSJ/PycharmProjects/pythonProject1/yolov8/cabbage/cabbage.v1i.yolov8/cabbage.yaml', 'r') as f:\n",
    "    lines = yaml.safe_load(f)\n",
    "    print(lines)"
   ],
   "metadata": {
    "collapsed": false,
    "ExecuteTime": {
     "end_time": "2024-03-08T02:26:11.377675Z",
     "start_time": "2024-03-08T02:26:11.357682Z"
    }
   },
   "id": "b19787d2a61e4faa",
   "execution_count": 28
  },
  {
   "cell_type": "code",
   "outputs": [],
   "source": [
    "from ultralytics import YOLO\n",
    "\n",
    "model_cab = YOLO('yolov8n.pt')"
   ],
   "metadata": {
    "collapsed": false,
    "ExecuteTime": {
     "end_time": "2024-03-08T02:26:14.429465Z",
     "start_time": "2024-03-08T02:26:14.358657Z"
    }
   },
   "id": "170b51f2523ae374",
   "execution_count": 29
  },
  {
   "cell_type": "code",
   "outputs": [
    {
     "name": "stdout",
     "output_type": "stream",
     "text": [
      "Ultralytics YOLOv8.1.24 🚀 Python-3.9.18 torch-2.2.1+cpu CPU (Intel Core(TM) i7-7700HQ 2.80GHz)\n",
      "\u001B[34m\u001B[1mengine\\trainer: \u001B[0mtask=detect, mode=train, model=yolov8n.pt, data=C:/Users/BSJ/PycharmProjects/pythonProject1/yolov8/cabbage/cabbage.v1i.yolov8/cabbage.yaml, epochs=50, time=None, patience=30, batch=16, imgsz=640, save=True, save_period=-1, cache=False, device=None, workers=8, project=None, name=train6, exist_ok=False, pretrained=True, optimizer=auto, verbose=True, seed=0, deterministic=True, single_cls=False, rect=False, cos_lr=False, close_mosaic=10, resume=False, amp=True, fraction=1.0, profile=False, freeze=None, multi_scale=False, overlap_mask=True, mask_ratio=4, dropout=0.0, val=True, split=val, save_json=False, save_hybrid=False, conf=None, iou=0.7, max_det=300, half=False, dnn=False, plots=True, source=None, vid_stride=1, stream_buffer=False, visualize=False, augment=False, agnostic_nms=False, classes=None, retina_masks=False, embed=None, show=False, save_frames=False, save_txt=False, save_conf=False, save_crop=False, show_labels=True, show_conf=True, show_boxes=True, line_width=None, format=torchscript, keras=False, optimize=False, int8=False, dynamic=False, simplify=False, opset=None, workspace=4, nms=False, lr0=0.01, lrf=0.01, momentum=0.937, weight_decay=0.0005, warmup_epochs=3.0, warmup_momentum=0.8, warmup_bias_lr=0.1, box=7.5, cls=0.5, dfl=1.5, pose=12.0, kobj=1.0, label_smoothing=0.0, nbs=64, hsv_h=0.015, hsv_s=0.7, hsv_v=0.4, degrees=0.0, translate=0.1, scale=0.5, shear=0.0, perspective=0.0, flipud=0.0, fliplr=0.5, mosaic=1.0, mixup=0.0, copy_paste=0.0, auto_augment=randaugment, erasing=0.4, crop_fraction=1.0, cfg=None, tracker=botsort.yaml, save_dir=runs\\detect\\train6\n",
      "Overriding model.yaml nc=80 with nc=2\n",
      "\n",
      "                   from  n    params  module                                       arguments                     \n",
      "  0                  -1  1       464  ultralytics.nn.modules.conv.Conv             [3, 16, 3, 2]                 \n",
      "  1                  -1  1      4672  ultralytics.nn.modules.conv.Conv             [16, 32, 3, 2]                \n",
      "  2                  -1  1      7360  ultralytics.nn.modules.block.C2f             [32, 32, 1, True]             \n",
      "  3                  -1  1     18560  ultralytics.nn.modules.conv.Conv             [32, 64, 3, 2]                \n",
      "  4                  -1  2     49664  ultralytics.nn.modules.block.C2f             [64, 64, 2, True]             \n",
      "  5                  -1  1     73984  ultralytics.nn.modules.conv.Conv             [64, 128, 3, 2]               \n",
      "  6                  -1  2    197632  ultralytics.nn.modules.block.C2f             [128, 128, 2, True]           \n",
      "  7                  -1  1    295424  ultralytics.nn.modules.conv.Conv             [128, 256, 3, 2]              \n",
      "  8                  -1  1    460288  ultralytics.nn.modules.block.C2f             [256, 256, 1, True]           \n",
      "  9                  -1  1    164608  ultralytics.nn.modules.block.SPPF            [256, 256, 5]                 \n",
      " 10                  -1  1         0  torch.nn.modules.upsampling.Upsample         [None, 2, 'nearest']          \n",
      " 11             [-1, 6]  1         0  ultralytics.nn.modules.conv.Concat           [1]                           \n",
      " 12                  -1  1    148224  ultralytics.nn.modules.block.C2f             [384, 128, 1]                 \n",
      " 13                  -1  1         0  torch.nn.modules.upsampling.Upsample         [None, 2, 'nearest']          \n",
      " 14             [-1, 4]  1         0  ultralytics.nn.modules.conv.Concat           [1]                           \n",
      " 15                  -1  1     37248  ultralytics.nn.modules.block.C2f             [192, 64, 1]                  \n",
      " 16                  -1  1     36992  ultralytics.nn.modules.conv.Conv             [64, 64, 3, 2]                \n",
      " 17            [-1, 12]  1         0  ultralytics.nn.modules.conv.Concat           [1]                           \n",
      " 18                  -1  1    123648  ultralytics.nn.modules.block.C2f             [192, 128, 1]                 \n",
      " 19                  -1  1    147712  ultralytics.nn.modules.conv.Conv             [128, 128, 3, 2]              \n",
      " 20             [-1, 9]  1         0  ultralytics.nn.modules.conv.Concat           [1]                           \n",
      " 21                  -1  1    493056  ultralytics.nn.modules.block.C2f             [384, 256, 1]                 \n",
      " 22        [15, 18, 21]  1    751702  ultralytics.nn.modules.head.Detect           [2, [64, 128, 256]]           \n",
      "Model summary: 225 layers, 3011238 parameters, 3011222 gradients, 8.2 GFLOPs\n",
      "Transferred 319/355 items from pretrained weights\n",
      "Freezing layer 'model.22.dfl.conv.weight'\n"
     ]
    },
    {
     "name": "stderr",
     "output_type": "stream",
     "text": [
      "\u001B[34m\u001B[1mtrain: \u001B[0mScanning C:\\Users\\BSJ\\PycharmProjects\\pythonProject1\\yolov8\\cabbage\\cabbage.v1i.yolov8\\train\\labels.cache... 98 images, 0 backgrounds, 1 corrupt: 100%|██████████| 99/99 [00:00<?, ?it/s]"
     ]
    },
    {
     "name": "stdout",
     "output_type": "stream",
     "text": [
      "\u001B[34m\u001B[1mtrain: \u001B[0mWARNING ⚠️ C:\\Users\\BSJ\\PycharmProjects\\pythonProject1\\yolov8\\cabbage\\cabbage.v1i.yolov8\\train\\images\\cabbage-is-a-leafy-green-red-purple-or-white-pale-green-biennial-plant-grown-as-an-annual-vegetable-crop-for-its-dense-leaved-heads-isolated-on-2GG51RX_jpg.rf.ebc67c8cf09b7e9f7115305333f0704f.jpg: ignoring corrupt image/label: [Errno 2] No such file or directory: 'C:\\\\Users\\\\BSJ\\\\PycharmProjects\\\\pythonProject1\\\\yolov8\\\\cabbage\\\\cabbage.v1i.yolov8\\\\train\\\\images\\\\cabbage-is-a-leafy-green-red-purple-or-white-pale-green-biennial-plant-grown-as-an-annual-vegetable-crop-for-its-dense-leaved-heads-isolated-on-2GG51RX_jpg.rf.ebc67c8cf09b7e9f7115305333f0704f.jpg'\n"
     ]
    },
    {
     "name": "stderr",
     "output_type": "stream",
     "text": [
      "\n",
      "\u001B[34m\u001B[1mval: \u001B[0mScanning C:\\Users\\BSJ\\PycharmProjects\\pythonProject1\\yolov8\\cabbage\\cabbage.v1i.yolov8\\valid\\labels.cache... 25 images, 0 backgrounds, 0 corrupt: 100%|██████████| 25/25 [00:00<?, ?it/s]"
     ]
    },
    {
     "name": "stdout",
     "output_type": "stream",
     "text": [
      "Plotting labels to runs\\detect\\train6\\labels.jpg... \n"
     ]
    },
    {
     "name": "stderr",
     "output_type": "stream",
     "text": [
      "\n"
     ]
    },
    {
     "name": "stdout",
     "output_type": "stream",
     "text": [
      "\u001B[34m\u001B[1moptimizer:\u001B[0m 'optimizer=auto' found, ignoring 'lr0=0.01' and 'momentum=0.937' and determining best 'optimizer', 'lr0' and 'momentum' automatically... \n",
      "\u001B[34m\u001B[1moptimizer:\u001B[0m AdamW(lr=0.001667, momentum=0.9) with parameter groups 57 weight(decay=0.0), 64 weight(decay=0.0005), 63 bias(decay=0.0)\n",
      "Image sizes 640 train, 640 val\n",
      "Using 0 dataloader workers\n",
      "Logging results to \u001B[1mruns\\detect\\train6\u001B[0m\n",
      "Starting training for 50 epochs...\n",
      "\n",
      "      Epoch    GPU_mem   box_loss   cls_loss   dfl_loss  Instances       Size\n"
     ]
    },
    {
     "name": "stderr",
     "output_type": "stream",
     "text": [
      "       1/50         0G     0.8173      2.944       1.36          3        640: 100%|██████████| 7/7 [00:42<00:00,  6.13s/it]\n",
      "                 Class     Images  Instances      Box(P          R      mAP50  mAP50-95): 100%|██████████| 1/1 [00:04<00:00,  4.41s/it]"
     ]
    },
    {
     "name": "stdout",
     "output_type": "stream",
     "text": [
      "                   all         25         28    0.00382          1      0.236      0.178\n"
     ]
    },
    {
     "name": "stderr",
     "output_type": "stream",
     "text": [
      "\n"
     ]
    },
    {
     "name": "stdout",
     "output_type": "stream",
     "text": [
      "\n",
      "      Epoch    GPU_mem   box_loss   cls_loss   dfl_loss  Instances       Size\n"
     ]
    },
    {
     "name": "stderr",
     "output_type": "stream",
     "text": [
      "       2/50         0G     0.7471       2.38      1.219          7        640: 100%|██████████| 7/7 [00:41<00:00,  5.93s/it]\n",
      "                 Class     Images  Instances      Box(P          R      mAP50  mAP50-95): 100%|██████████| 1/1 [00:04<00:00,  4.49s/it]"
     ]
    },
    {
     "name": "stdout",
     "output_type": "stream",
     "text": [
      "                   all         25         28    0.00374          1      0.511      0.388\n"
     ]
    },
    {
     "name": "stderr",
     "output_type": "stream",
     "text": [
      "\n"
     ]
    },
    {
     "name": "stdout",
     "output_type": "stream",
     "text": [
      "\n",
      "      Epoch    GPU_mem   box_loss   cls_loss   dfl_loss  Instances       Size\n"
     ]
    },
    {
     "name": "stderr",
     "output_type": "stream",
     "text": [
      "       3/50         0G      0.777      1.922      1.303          5        640: 100%|██████████| 7/7 [00:40<00:00,  5.83s/it]\n",
      "                 Class     Images  Instances      Box(P          R      mAP50  mAP50-95): 100%|██████████| 1/1 [00:04<00:00,  4.69s/it]"
     ]
    },
    {
     "name": "stdout",
     "output_type": "stream",
     "text": [
      "                   all         25         28    0.00374          1      0.455      0.379\n"
     ]
    },
    {
     "name": "stderr",
     "output_type": "stream",
     "text": [
      "\n"
     ]
    },
    {
     "name": "stdout",
     "output_type": "stream",
     "text": [
      "\n",
      "      Epoch    GPU_mem   box_loss   cls_loss   dfl_loss  Instances       Size\n"
     ]
    },
    {
     "name": "stderr",
     "output_type": "stream",
     "text": [
      "       4/50         0G     0.7069      2.045      1.203          2        640: 100%|██████████| 7/7 [00:41<00:00,  5.93s/it]\n",
      "                 Class     Images  Instances      Box(P          R      mAP50  mAP50-95): 100%|██████████| 1/1 [00:04<00:00,  4.87s/it]"
     ]
    },
    {
     "name": "stdout",
     "output_type": "stream",
     "text": [
      "                   all         25         28      0.869      0.214      0.624      0.493\n"
     ]
    },
    {
     "name": "stderr",
     "output_type": "stream",
     "text": [
      "\n"
     ]
    },
    {
     "name": "stdout",
     "output_type": "stream",
     "text": [
      "\n",
      "      Epoch    GPU_mem   box_loss   cls_loss   dfl_loss  Instances       Size\n"
     ]
    },
    {
     "name": "stderr",
     "output_type": "stream",
     "text": [
      "       5/50         0G     0.7193      1.622      1.209         17        640: 100%|██████████| 7/7 [00:41<00:00,  5.88s/it]\n",
      "                 Class     Images  Instances      Box(P          R      mAP50  mAP50-95): 100%|██████████| 1/1 [00:04<00:00,  4.59s/it]"
     ]
    },
    {
     "name": "stdout",
     "output_type": "stream",
     "text": [
      "                   all         25         28      0.757      0.477       0.69      0.403\n"
     ]
    },
    {
     "name": "stderr",
     "output_type": "stream",
     "text": [
      "\n"
     ]
    },
    {
     "name": "stdout",
     "output_type": "stream",
     "text": [
      "\n",
      "      Epoch    GPU_mem   box_loss   cls_loss   dfl_loss  Instances       Size\n"
     ]
    },
    {
     "name": "stderr",
     "output_type": "stream",
     "text": [
      "       6/50         0G     0.8553      1.737      1.394          3        640: 100%|██████████| 7/7 [00:40<00:00,  5.77s/it]\n",
      "                 Class     Images  Instances      Box(P          R      mAP50  mAP50-95): 100%|██████████| 1/1 [00:04<00:00,  4.56s/it]"
     ]
    },
    {
     "name": "stdout",
     "output_type": "stream",
     "text": [
      "                   all         25         28      0.614      0.712      0.698      0.513\n"
     ]
    },
    {
     "name": "stderr",
     "output_type": "stream",
     "text": [
      "\n"
     ]
    },
    {
     "name": "stdout",
     "output_type": "stream",
     "text": [
      "\n",
      "      Epoch    GPU_mem   box_loss   cls_loss   dfl_loss  Instances       Size\n"
     ]
    },
    {
     "name": "stderr",
     "output_type": "stream",
     "text": [
      "       7/50         0G     0.7432      1.388      1.264          7        640: 100%|██████████| 7/7 [00:39<00:00,  5.64s/it]\n",
      "                 Class     Images  Instances      Box(P          R      mAP50  mAP50-95): 100%|██████████| 1/1 [00:04<00:00,  4.29s/it]"
     ]
    },
    {
     "name": "stdout",
     "output_type": "stream",
     "text": [
      "                   all         25         28      0.411      0.531      0.458      0.216\n"
     ]
    },
    {
     "name": "stderr",
     "output_type": "stream",
     "text": [
      "\n"
     ]
    },
    {
     "name": "stdout",
     "output_type": "stream",
     "text": [
      "\n",
      "      Epoch    GPU_mem   box_loss   cls_loss   dfl_loss  Instances       Size\n"
     ]
    },
    {
     "name": "stderr",
     "output_type": "stream",
     "text": [
      "       8/50         0G     0.7332      1.358      1.287          6        640: 100%|██████████| 7/7 [00:38<00:00,  5.52s/it]\n",
      "                 Class     Images  Instances      Box(P          R      mAP50  mAP50-95): 100%|██████████| 1/1 [00:04<00:00,  4.41s/it]"
     ]
    },
    {
     "name": "stdout",
     "output_type": "stream",
     "text": [
      "                   all         25         28       0.68      0.606      0.527      0.337\n"
     ]
    },
    {
     "name": "stderr",
     "output_type": "stream",
     "text": [
      "\n"
     ]
    },
    {
     "name": "stdout",
     "output_type": "stream",
     "text": [
      "\n",
      "      Epoch    GPU_mem   box_loss   cls_loss   dfl_loss  Instances       Size\n"
     ]
    },
    {
     "name": "stderr",
     "output_type": "stream",
     "text": [
      "       9/50         0G     0.8247      1.322      1.274          4        640: 100%|██████████| 7/7 [00:39<00:00,  5.62s/it]\n",
      "                 Class     Images  Instances      Box(P          R      mAP50  mAP50-95): 100%|██████████| 1/1 [00:04<00:00,  4.37s/it]"
     ]
    },
    {
     "name": "stdout",
     "output_type": "stream",
     "text": [
      "                   all         25         28      0.583      0.786      0.779      0.462\n"
     ]
    },
    {
     "name": "stderr",
     "output_type": "stream",
     "text": [
      "\n"
     ]
    },
    {
     "name": "stdout",
     "output_type": "stream",
     "text": [
      "\n",
      "      Epoch    GPU_mem   box_loss   cls_loss   dfl_loss  Instances       Size\n"
     ]
    },
    {
     "name": "stderr",
     "output_type": "stream",
     "text": [
      "      10/50         0G     0.7967      1.389      1.259          4        640: 100%|██████████| 7/7 [00:39<00:00,  5.59s/it]\n",
      "                 Class     Images  Instances      Box(P          R      mAP50  mAP50-95): 100%|██████████| 1/1 [00:04<00:00,  4.50s/it]"
     ]
    },
    {
     "name": "stdout",
     "output_type": "stream",
     "text": [
      "                   all         25         28      0.706      0.714      0.781      0.564\n"
     ]
    },
    {
     "name": "stderr",
     "output_type": "stream",
     "text": [
      "\n"
     ]
    },
    {
     "name": "stdout",
     "output_type": "stream",
     "text": [
      "\n",
      "      Epoch    GPU_mem   box_loss   cls_loss   dfl_loss  Instances       Size\n"
     ]
    },
    {
     "name": "stderr",
     "output_type": "stream",
     "text": [
      "      11/50         0G     0.8228      1.382      1.238          5        640: 100%|██████████| 7/7 [00:39<00:00,  5.67s/it]\n",
      "                 Class     Images  Instances      Box(P          R      mAP50  mAP50-95): 100%|██████████| 1/1 [00:04<00:00,  4.64s/it]"
     ]
    },
    {
     "name": "stdout",
     "output_type": "stream",
     "text": [
      "                   all         25         28       0.63      0.738      0.744      0.543\n"
     ]
    },
    {
     "name": "stderr",
     "output_type": "stream",
     "text": [
      "\n"
     ]
    },
    {
     "name": "stdout",
     "output_type": "stream",
     "text": [
      "\n",
      "      Epoch    GPU_mem   box_loss   cls_loss   dfl_loss  Instances       Size\n"
     ]
    },
    {
     "name": "stderr",
     "output_type": "stream",
     "text": [
      "      12/50         0G     0.7509      1.357      1.249          3        640: 100%|██████████| 7/7 [00:39<00:00,  5.61s/it]\n",
      "                 Class     Images  Instances      Box(P          R      mAP50  mAP50-95): 100%|██████████| 1/1 [00:04<00:00,  4.09s/it]"
     ]
    },
    {
     "name": "stdout",
     "output_type": "stream",
     "text": [
      "                   all         25         28      0.744      0.536      0.643      0.443\n"
     ]
    },
    {
     "name": "stderr",
     "output_type": "stream",
     "text": [
      "\n"
     ]
    },
    {
     "name": "stdout",
     "output_type": "stream",
     "text": [
      "\n",
      "      Epoch    GPU_mem   box_loss   cls_loss   dfl_loss  Instances       Size\n"
     ]
    },
    {
     "name": "stderr",
     "output_type": "stream",
     "text": [
      "      13/50         0G     0.7517      1.324      1.231          8        640: 100%|██████████| 7/7 [00:39<00:00,  5.61s/it]\n",
      "                 Class     Images  Instances      Box(P          R      mAP50  mAP50-95): 100%|██████████| 1/1 [00:03<00:00,  3.96s/it]"
     ]
    },
    {
     "name": "stdout",
     "output_type": "stream",
     "text": [
      "                   all         25         28      0.391      0.643      0.531      0.379\n"
     ]
    },
    {
     "name": "stderr",
     "output_type": "stream",
     "text": [
      "\n"
     ]
    },
    {
     "name": "stdout",
     "output_type": "stream",
     "text": [
      "\n",
      "      Epoch    GPU_mem   box_loss   cls_loss   dfl_loss  Instances       Size\n"
     ]
    },
    {
     "name": "stderr",
     "output_type": "stream",
     "text": [
      "      14/50         0G     0.7526      1.425      1.233         16        640: 100%|██████████| 7/7 [00:39<00:00,  5.62s/it]\n",
      "                 Class     Images  Instances      Box(P          R      mAP50  mAP50-95): 100%|██████████| 1/1 [00:03<00:00,  3.97s/it]"
     ]
    },
    {
     "name": "stdout",
     "output_type": "stream",
     "text": [
      "                   all         25         28      0.615      0.796      0.779      0.588\n"
     ]
    },
    {
     "name": "stderr",
     "output_type": "stream",
     "text": [
      "\n"
     ]
    },
    {
     "name": "stdout",
     "output_type": "stream",
     "text": [
      "\n",
      "      Epoch    GPU_mem   box_loss   cls_loss   dfl_loss  Instances       Size\n"
     ]
    },
    {
     "name": "stderr",
     "output_type": "stream",
     "text": [
      "      15/50         0G     0.8217      1.408      1.286          6        640: 100%|██████████| 7/7 [00:39<00:00,  5.62s/it]\n",
      "                 Class     Images  Instances      Box(P          R      mAP50  mAP50-95): 100%|██████████| 1/1 [00:04<00:00,  4.07s/it]"
     ]
    },
    {
     "name": "stdout",
     "output_type": "stream",
     "text": [
      "                   all         25         28      0.575      0.821      0.813      0.599\n"
     ]
    },
    {
     "name": "stderr",
     "output_type": "stream",
     "text": [
      "\n"
     ]
    },
    {
     "name": "stdout",
     "output_type": "stream",
     "text": [
      "\n",
      "      Epoch    GPU_mem   box_loss   cls_loss   dfl_loss  Instances       Size\n"
     ]
    },
    {
     "name": "stderr",
     "output_type": "stream",
     "text": [
      "      16/50         0G     0.7965      1.416       1.31          4        640: 100%|██████████| 7/7 [00:38<00:00,  5.53s/it]\n",
      "                 Class     Images  Instances      Box(P          R      mAP50  mAP50-95): 100%|██████████| 1/1 [00:03<00:00,  3.91s/it]"
     ]
    },
    {
     "name": "stdout",
     "output_type": "stream",
     "text": [
      "                   all         25         28      0.825      0.665       0.79      0.575\n"
     ]
    },
    {
     "name": "stderr",
     "output_type": "stream",
     "text": [
      "\n"
     ]
    },
    {
     "name": "stdout",
     "output_type": "stream",
     "text": [
      "\n",
      "      Epoch    GPU_mem   box_loss   cls_loss   dfl_loss  Instances       Size\n"
     ]
    },
    {
     "name": "stderr",
     "output_type": "stream",
     "text": [
      "      17/50         0G      0.785      1.301      1.289          4        640: 100%|██████████| 7/7 [00:39<00:00,  5.58s/it]\n",
      "                 Class     Images  Instances      Box(P          R      mAP50  mAP50-95): 100%|██████████| 1/1 [00:03<00:00,  4.00s/it]"
     ]
    },
    {
     "name": "stdout",
     "output_type": "stream",
     "text": [
      "                   all         25         28      0.527      0.679      0.732      0.498\n"
     ]
    },
    {
     "name": "stderr",
     "output_type": "stream",
     "text": [
      "\n"
     ]
    },
    {
     "name": "stdout",
     "output_type": "stream",
     "text": [
      "\n",
      "      Epoch    GPU_mem   box_loss   cls_loss   dfl_loss  Instances       Size\n"
     ]
    },
    {
     "name": "stderr",
     "output_type": "stream",
     "text": [
      "      18/50         0G     0.8004      1.225      1.229          7        640: 100%|██████████| 7/7 [00:41<00:00,  5.91s/it]\n",
      "                 Class     Images  Instances      Box(P          R      mAP50  mAP50-95): 100%|██████████| 1/1 [00:04<00:00,  4.18s/it]"
     ]
    },
    {
     "name": "stdout",
     "output_type": "stream",
     "text": [
      "                   all         25         28      0.694      0.536      0.623      0.503\n"
     ]
    },
    {
     "name": "stderr",
     "output_type": "stream",
     "text": [
      "\n"
     ]
    },
    {
     "name": "stdout",
     "output_type": "stream",
     "text": [
      "\n",
      "      Epoch    GPU_mem   box_loss   cls_loss   dfl_loss  Instances       Size\n"
     ]
    },
    {
     "name": "stderr",
     "output_type": "stream",
     "text": [
      "      19/50         0G       0.69       1.21      1.199          4        640: 100%|██████████| 7/7 [00:38<00:00,  5.56s/it]\n",
      "                 Class     Images  Instances      Box(P          R      mAP50  mAP50-95): 100%|██████████| 1/1 [00:04<00:00,  4.18s/it]"
     ]
    },
    {
     "name": "stdout",
     "output_type": "stream",
     "text": [
      "                   all         25         28      0.572       0.56      0.598      0.473\n"
     ]
    },
    {
     "name": "stderr",
     "output_type": "stream",
     "text": [
      "\n"
     ]
    },
    {
     "name": "stdout",
     "output_type": "stream",
     "text": [
      "\n",
      "      Epoch    GPU_mem   box_loss   cls_loss   dfl_loss  Instances       Size\n"
     ]
    },
    {
     "name": "stderr",
     "output_type": "stream",
     "text": [
      "      20/50         0G     0.8741      1.316      1.252         13        640: 100%|██████████| 7/7 [00:40<00:00,  5.80s/it]\n",
      "                 Class     Images  Instances      Box(P          R      mAP50  mAP50-95): 100%|██████████| 1/1 [00:04<00:00,  4.00s/it]"
     ]
    },
    {
     "name": "stdout",
     "output_type": "stream",
     "text": [
      "                   all         25         28      0.712      0.685      0.803      0.562\n"
     ]
    },
    {
     "name": "stderr",
     "output_type": "stream",
     "text": [
      "\n"
     ]
    },
    {
     "name": "stdout",
     "output_type": "stream",
     "text": [
      "\n",
      "      Epoch    GPU_mem   box_loss   cls_loss   dfl_loss  Instances       Size\n"
     ]
    },
    {
     "name": "stderr",
     "output_type": "stream",
     "text": [
      "      21/50         0G      0.733      1.105      1.206         10        640: 100%|██████████| 7/7 [00:39<00:00,  5.62s/it]\n",
      "                 Class     Images  Instances      Box(P          R      mAP50  mAP50-95): 100%|██████████| 1/1 [00:04<00:00,  4.07s/it]"
     ]
    },
    {
     "name": "stdout",
     "output_type": "stream",
     "text": [
      "                   all         25         28      0.697       0.78      0.858      0.684\n"
     ]
    },
    {
     "name": "stderr",
     "output_type": "stream",
     "text": [
      "\n"
     ]
    },
    {
     "name": "stdout",
     "output_type": "stream",
     "text": [
      "\n",
      "      Epoch    GPU_mem   box_loss   cls_loss   dfl_loss  Instances       Size\n"
     ]
    },
    {
     "name": "stderr",
     "output_type": "stream",
     "text": [
      "      22/50         0G     0.7526      1.161      1.221          5        640: 100%|██████████| 7/7 [00:39<00:00,  5.64s/it]\n",
      "                 Class     Images  Instances      Box(P          R      mAP50  mAP50-95): 100%|██████████| 1/1 [00:04<00:00,  4.02s/it]"
     ]
    },
    {
     "name": "stdout",
     "output_type": "stream",
     "text": [
      "                   all         25         28      0.728      0.794      0.848      0.632\n"
     ]
    },
    {
     "name": "stderr",
     "output_type": "stream",
     "text": [
      "\n"
     ]
    },
    {
     "name": "stdout",
     "output_type": "stream",
     "text": [
      "\n",
      "      Epoch    GPU_mem   box_loss   cls_loss   dfl_loss  Instances       Size\n"
     ]
    },
    {
     "name": "stderr",
     "output_type": "stream",
     "text": [
      "      23/50         0G     0.6823      1.056      1.205          5        640: 100%|██████████| 7/7 [00:39<00:00,  5.63s/it]\n",
      "                 Class     Images  Instances      Box(P          R      mAP50  mAP50-95): 100%|██████████| 1/1 [00:04<00:00,  4.04s/it]"
     ]
    },
    {
     "name": "stdout",
     "output_type": "stream",
     "text": [
      "                   all         25         28      0.589      0.638       0.58      0.453\n"
     ]
    },
    {
     "name": "stderr",
     "output_type": "stream",
     "text": [
      "\n"
     ]
    },
    {
     "name": "stdout",
     "output_type": "stream",
     "text": [
      "\n",
      "      Epoch    GPU_mem   box_loss   cls_loss   dfl_loss  Instances       Size\n"
     ]
    },
    {
     "name": "stderr",
     "output_type": "stream",
     "text": [
      "      24/50         0G     0.6796      1.009      1.192          4        640: 100%|██████████| 7/7 [00:39<00:00,  5.60s/it]\n",
      "                 Class     Images  Instances      Box(P          R      mAP50  mAP50-95): 100%|██████████| 1/1 [00:03<00:00,  3.85s/it]"
     ]
    },
    {
     "name": "stdout",
     "output_type": "stream",
     "text": [
      "                   all         25         28       0.76      0.837      0.814      0.676\n"
     ]
    },
    {
     "name": "stderr",
     "output_type": "stream",
     "text": [
      "\n"
     ]
    },
    {
     "name": "stdout",
     "output_type": "stream",
     "text": [
      "\n",
      "      Epoch    GPU_mem   box_loss   cls_loss   dfl_loss  Instances       Size\n"
     ]
    },
    {
     "name": "stderr",
     "output_type": "stream",
     "text": [
      "      25/50         0G      0.687      1.005      1.187          5        640: 100%|██████████| 7/7 [00:39<00:00,  5.67s/it]\n",
      "                 Class     Images  Instances      Box(P          R      mAP50  mAP50-95): 100%|██████████| 1/1 [00:03<00:00,  3.90s/it]"
     ]
    },
    {
     "name": "stdout",
     "output_type": "stream",
     "text": [
      "                   all         25         28      0.845      0.839      0.877      0.738\n"
     ]
    },
    {
     "name": "stderr",
     "output_type": "stream",
     "text": [
      "\n"
     ]
    },
    {
     "name": "stdout",
     "output_type": "stream",
     "text": [
      "\n",
      "      Epoch    GPU_mem   box_loss   cls_loss   dfl_loss  Instances       Size\n"
     ]
    },
    {
     "name": "stderr",
     "output_type": "stream",
     "text": [
      "      26/50         0G      0.733      1.034      1.173          5        640: 100%|██████████| 7/7 [00:39<00:00,  5.66s/it]\n",
      "                 Class     Images  Instances      Box(P          R      mAP50  mAP50-95): 100%|██████████| 1/1 [00:03<00:00,  3.95s/it]"
     ]
    },
    {
     "name": "stdout",
     "output_type": "stream",
     "text": [
      "                   all         25         28      0.859      0.821      0.847      0.717\n"
     ]
    },
    {
     "name": "stderr",
     "output_type": "stream",
     "text": [
      "\n"
     ]
    },
    {
     "name": "stdout",
     "output_type": "stream",
     "text": [
      "\n",
      "      Epoch    GPU_mem   box_loss   cls_loss   dfl_loss  Instances       Size\n"
     ]
    },
    {
     "name": "stderr",
     "output_type": "stream",
     "text": [
      "      27/50         0G     0.7105      1.025      1.186          4        640: 100%|██████████| 7/7 [00:39<00:00,  5.69s/it]\n",
      "                 Class     Images  Instances      Box(P          R      mAP50  mAP50-95): 100%|██████████| 1/1 [00:03<00:00,  3.89s/it]"
     ]
    },
    {
     "name": "stdout",
     "output_type": "stream",
     "text": [
      "                   all         25         28      0.775      0.893      0.873      0.742\n"
     ]
    },
    {
     "name": "stderr",
     "output_type": "stream",
     "text": [
      "\n"
     ]
    },
    {
     "name": "stdout",
     "output_type": "stream",
     "text": [
      "\n",
      "      Epoch    GPU_mem   box_loss   cls_loss   dfl_loss  Instances       Size\n"
     ]
    },
    {
     "name": "stderr",
     "output_type": "stream",
     "text": [
      "      28/50         0G     0.6911     0.9965      1.188          2        640: 100%|██████████| 7/7 [00:39<00:00,  5.68s/it]\n",
      "                 Class     Images  Instances      Box(P          R      mAP50  mAP50-95): 100%|██████████| 1/1 [00:03<00:00,  3.80s/it]"
     ]
    },
    {
     "name": "stdout",
     "output_type": "stream",
     "text": [
      "                   all         25         28       0.78      0.804      0.861      0.712\n"
     ]
    },
    {
     "name": "stderr",
     "output_type": "stream",
     "text": [
      "\n"
     ]
    },
    {
     "name": "stdout",
     "output_type": "stream",
     "text": [
      "\n",
      "      Epoch    GPU_mem   box_loss   cls_loss   dfl_loss  Instances       Size\n"
     ]
    },
    {
     "name": "stderr",
     "output_type": "stream",
     "text": [
      "      29/50         0G     0.6021     0.8865      1.098          9        640: 100%|██████████| 7/7 [00:39<00:00,  5.63s/it]\n",
      "                 Class     Images  Instances      Box(P          R      mAP50  mAP50-95): 100%|██████████| 1/1 [00:03<00:00,  3.94s/it]"
     ]
    },
    {
     "name": "stdout",
     "output_type": "stream",
     "text": [
      "                   all         25         28      0.779      0.821      0.855      0.706\n"
     ]
    },
    {
     "name": "stderr",
     "output_type": "stream",
     "text": [
      "\n"
     ]
    },
    {
     "name": "stdout",
     "output_type": "stream",
     "text": [
      "\n",
      "      Epoch    GPU_mem   box_loss   cls_loss   dfl_loss  Instances       Size\n"
     ]
    },
    {
     "name": "stderr",
     "output_type": "stream",
     "text": [
      "      30/50         0G     0.6978     0.9656      1.136         27        640: 100%|██████████| 7/7 [00:40<00:00,  5.72s/it]\n",
      "                 Class     Images  Instances      Box(P          R      mAP50  mAP50-95): 100%|██████████| 1/1 [00:03<00:00,  3.92s/it]"
     ]
    },
    {
     "name": "stdout",
     "output_type": "stream",
     "text": [
      "                   all         25         28      0.858      0.805      0.898      0.721\n"
     ]
    },
    {
     "name": "stderr",
     "output_type": "stream",
     "text": [
      "\n"
     ]
    },
    {
     "name": "stdout",
     "output_type": "stream",
     "text": [
      "\n",
      "      Epoch    GPU_mem   box_loss   cls_loss   dfl_loss  Instances       Size\n"
     ]
    },
    {
     "name": "stderr",
     "output_type": "stream",
     "text": [
      "      31/50         0G     0.6308     0.8649      1.141          5        640: 100%|██████████| 7/7 [00:39<00:00,  5.66s/it]\n",
      "                 Class     Images  Instances      Box(P          R      mAP50  mAP50-95): 100%|██████████| 1/1 [00:04<00:00,  4.01s/it]"
     ]
    },
    {
     "name": "stdout",
     "output_type": "stream",
     "text": [
      "                   all         25         28      0.831      0.821      0.908      0.764\n"
     ]
    },
    {
     "name": "stderr",
     "output_type": "stream",
     "text": [
      "\n"
     ]
    },
    {
     "name": "stdout",
     "output_type": "stream",
     "text": [
      "\n",
      "      Epoch    GPU_mem   box_loss   cls_loss   dfl_loss  Instances       Size\n"
     ]
    },
    {
     "name": "stderr",
     "output_type": "stream",
     "text": [
      "      32/50         0G     0.6592     0.8888      1.126          8        640: 100%|██████████| 7/7 [00:39<00:00,  5.66s/it]\n",
      "                 Class     Images  Instances      Box(P          R      mAP50  mAP50-95): 100%|██████████| 1/1 [00:03<00:00,  3.97s/it]"
     ]
    },
    {
     "name": "stdout",
     "output_type": "stream",
     "text": [
      "                   all         25         28      0.873      0.817      0.887       0.77\n"
     ]
    },
    {
     "name": "stderr",
     "output_type": "stream",
     "text": [
      "\n"
     ]
    },
    {
     "name": "stdout",
     "output_type": "stream",
     "text": [
      "\n",
      "      Epoch    GPU_mem   box_loss   cls_loss   dfl_loss  Instances       Size\n"
     ]
    },
    {
     "name": "stderr",
     "output_type": "stream",
     "text": [
      "      33/50         0G     0.6801     0.9433      1.142         16        640: 100%|██████████| 7/7 [00:39<00:00,  5.63s/it]\n",
      "                 Class     Images  Instances      Box(P          R      mAP50  mAP50-95): 100%|██████████| 1/1 [00:03<00:00,  3.88s/it]"
     ]
    },
    {
     "name": "stdout",
     "output_type": "stream",
     "text": [
      "                   all         25         28      0.885      0.821      0.908      0.796\n"
     ]
    },
    {
     "name": "stderr",
     "output_type": "stream",
     "text": [
      "\n"
     ]
    },
    {
     "name": "stdout",
     "output_type": "stream",
     "text": [
      "\n",
      "      Epoch    GPU_mem   box_loss   cls_loss   dfl_loss  Instances       Size\n"
     ]
    },
    {
     "name": "stderr",
     "output_type": "stream",
     "text": [
      "      34/50         0G     0.6512     0.8637      1.139          4        640: 100%|██████████| 7/7 [00:39<00:00,  5.69s/it]\n",
      "                 Class     Images  Instances      Box(P          R      mAP50  mAP50-95): 100%|██████████| 1/1 [00:03<00:00,  3.97s/it]"
     ]
    },
    {
     "name": "stdout",
     "output_type": "stream",
     "text": [
      "                   all         25         28      0.954      0.818      0.937      0.851\n"
     ]
    },
    {
     "name": "stderr",
     "output_type": "stream",
     "text": [
      "\n"
     ]
    },
    {
     "name": "stdout",
     "output_type": "stream",
     "text": [
      "\n",
      "      Epoch    GPU_mem   box_loss   cls_loss   dfl_loss  Instances       Size\n"
     ]
    },
    {
     "name": "stderr",
     "output_type": "stream",
     "text": [
      "      35/50         0G     0.6679     0.8841      1.162          4        640: 100%|██████████| 7/7 [00:39<00:00,  5.63s/it]\n",
      "                 Class     Images  Instances      Box(P          R      mAP50  mAP50-95): 100%|██████████| 1/1 [00:03<00:00,  3.70s/it]"
     ]
    },
    {
     "name": "stdout",
     "output_type": "stream",
     "text": [
      "                   all         25         28      0.867      0.919      0.958      0.868\n"
     ]
    },
    {
     "name": "stderr",
     "output_type": "stream",
     "text": [
      "\n"
     ]
    },
    {
     "name": "stdout",
     "output_type": "stream",
     "text": [
      "\n",
      "      Epoch    GPU_mem   box_loss   cls_loss   dfl_loss  Instances       Size\n"
     ]
    },
    {
     "name": "stderr",
     "output_type": "stream",
     "text": [
      "      36/50         0G     0.6368     0.8967      1.117          4        640: 100%|██████████| 7/7 [00:39<00:00,  5.68s/it]\n",
      "                 Class     Images  Instances      Box(P          R      mAP50  mAP50-95): 100%|██████████| 1/1 [00:03<00:00,  3.82s/it]"
     ]
    },
    {
     "name": "stdout",
     "output_type": "stream",
     "text": [
      "                   all         25         28      0.856      0.893      0.946      0.841\n"
     ]
    },
    {
     "name": "stderr",
     "output_type": "stream",
     "text": [
      "\n"
     ]
    },
    {
     "name": "stdout",
     "output_type": "stream",
     "text": [
      "\n",
      "      Epoch    GPU_mem   box_loss   cls_loss   dfl_loss  Instances       Size\n"
     ]
    },
    {
     "name": "stderr",
     "output_type": "stream",
     "text": [
      "      37/50         0G     0.6202      0.917      1.108          4        640: 100%|██████████| 7/7 [00:39<00:00,  5.62s/it]\n",
      "                 Class     Images  Instances      Box(P          R      mAP50  mAP50-95): 100%|██████████| 1/1 [00:03<00:00,  3.62s/it]"
     ]
    },
    {
     "name": "stdout",
     "output_type": "stream",
     "text": [
      "                   all         25         28      0.884      0.857      0.946      0.835\n"
     ]
    },
    {
     "name": "stderr",
     "output_type": "stream",
     "text": [
      "\n"
     ]
    },
    {
     "name": "stdout",
     "output_type": "stream",
     "text": [
      "\n",
      "      Epoch    GPU_mem   box_loss   cls_loss   dfl_loss  Instances       Size\n"
     ]
    },
    {
     "name": "stderr",
     "output_type": "stream",
     "text": [
      "      38/50         0G     0.5796     0.9379      1.121          2        640: 100%|██████████| 7/7 [00:40<00:00,  5.76s/it]\n",
      "                 Class     Images  Instances      Box(P          R      mAP50  mAP50-95): 100%|██████████| 1/1 [00:03<00:00,  3.89s/it]"
     ]
    },
    {
     "name": "stdout",
     "output_type": "stream",
     "text": [
      "                   all         25         28      0.952      0.777      0.933       0.81\n"
     ]
    },
    {
     "name": "stderr",
     "output_type": "stream",
     "text": [
      "\n"
     ]
    },
    {
     "name": "stdout",
     "output_type": "stream",
     "text": [
      "\n",
      "      Epoch    GPU_mem   box_loss   cls_loss   dfl_loss  Instances       Size\n"
     ]
    },
    {
     "name": "stderr",
     "output_type": "stream",
     "text": [
      "      39/50         0G     0.5649     0.8433      1.099         15        640: 100%|██████████| 7/7 [00:39<00:00,  5.64s/it]\n",
      "                 Class     Images  Instances      Box(P          R      mAP50  mAP50-95): 100%|██████████| 1/1 [00:03<00:00,  3.78s/it]"
     ]
    },
    {
     "name": "stdout",
     "output_type": "stream",
     "text": [
      "                   all         25         28      0.892      0.893      0.953      0.856\n"
     ]
    },
    {
     "name": "stderr",
     "output_type": "stream",
     "text": [
      "\n"
     ]
    },
    {
     "name": "stdout",
     "output_type": "stream",
     "text": [
      "\n",
      "      Epoch    GPU_mem   box_loss   cls_loss   dfl_loss  Instances       Size\n"
     ]
    },
    {
     "name": "stderr",
     "output_type": "stream",
     "text": [
      "      40/50         0G      0.578     0.7386      1.134          5        640: 100%|██████████| 7/7 [00:39<00:00,  5.63s/it]\n",
      "                 Class     Images  Instances      Box(P          R      mAP50  mAP50-95): 100%|██████████| 1/1 [00:03<00:00,  3.71s/it]"
     ]
    },
    {
     "name": "stdout",
     "output_type": "stream",
     "text": [
      "                   all         25         28      0.862       0.95      0.953      0.847\n"
     ]
    },
    {
     "name": "stderr",
     "output_type": "stream",
     "text": [
      "\n"
     ]
    },
    {
     "name": "stdout",
     "output_type": "stream",
     "text": [
      "Closing dataloader mosaic\n",
      "\n",
      "      Epoch    GPU_mem   box_loss   cls_loss   dfl_loss  Instances       Size\n"
     ]
    },
    {
     "name": "stderr",
     "output_type": "stream",
     "text": [
      "      41/50         0G     0.4349     0.9256     0.9873          3        640: 100%|██████████| 7/7 [00:39<00:00,  5.61s/it]\n",
      "                 Class     Images  Instances      Box(P          R      mAP50  mAP50-95): 100%|██████████| 1/1 [00:03<00:00,  3.79s/it]"
     ]
    },
    {
     "name": "stdout",
     "output_type": "stream",
     "text": [
      "                   all         25         28      0.874       0.94      0.953      0.831\n"
     ]
    },
    {
     "name": "stderr",
     "output_type": "stream",
     "text": [
      "\n"
     ]
    },
    {
     "name": "stdout",
     "output_type": "stream",
     "text": [
      "\n",
      "      Epoch    GPU_mem   box_loss   cls_loss   dfl_loss  Instances       Size\n"
     ]
    },
    {
     "name": "stderr",
     "output_type": "stream",
     "text": [
      "      42/50         0G     0.5119     0.9646      1.095          2        640: 100%|██████████| 7/7 [00:39<00:00,  5.60s/it]\n",
      "                 Class     Images  Instances      Box(P          R      mAP50  mAP50-95): 100%|██████████| 1/1 [00:03<00:00,  3.69s/it]"
     ]
    },
    {
     "name": "stdout",
     "output_type": "stream",
     "text": [
      "                   all         25         28      0.839      0.958      0.943      0.823\n"
     ]
    },
    {
     "name": "stderr",
     "output_type": "stream",
     "text": [
      "\n"
     ]
    },
    {
     "name": "stdout",
     "output_type": "stream",
     "text": [
      "\n",
      "      Epoch    GPU_mem   box_loss   cls_loss   dfl_loss  Instances       Size\n"
     ]
    },
    {
     "name": "stderr",
     "output_type": "stream",
     "text": [
      "      43/50         0G     0.4949     0.9335      1.038          2        640: 100%|██████████| 7/7 [00:38<00:00,  5.54s/it]\n",
      "                 Class     Images  Instances      Box(P          R      mAP50  mAP50-95): 100%|██████████| 1/1 [00:03<00:00,  3.75s/it]"
     ]
    },
    {
     "name": "stdout",
     "output_type": "stream",
     "text": [
      "                   all         25         28      0.812      0.907      0.934      0.819\n"
     ]
    },
    {
     "name": "stderr",
     "output_type": "stream",
     "text": [
      "\n"
     ]
    },
    {
     "name": "stdout",
     "output_type": "stream",
     "text": [
      "\n",
      "      Epoch    GPU_mem   box_loss   cls_loss   dfl_loss  Instances       Size\n"
     ]
    },
    {
     "name": "stderr",
     "output_type": "stream",
     "text": [
      "      44/50         0G     0.4155     0.8148     0.9396          2        640: 100%|██████████| 7/7 [00:39<00:00,  5.60s/it]\n",
      "                 Class     Images  Instances      Box(P          R      mAP50  mAP50-95): 100%|██████████| 1/1 [00:03<00:00,  3.77s/it]"
     ]
    },
    {
     "name": "stdout",
     "output_type": "stream",
     "text": [
      "                   all         25         28      0.817      0.954      0.945      0.848\n"
     ]
    },
    {
     "name": "stderr",
     "output_type": "stream",
     "text": [
      "\n"
     ]
    },
    {
     "name": "stdout",
     "output_type": "stream",
     "text": [
      "\n",
      "      Epoch    GPU_mem   box_loss   cls_loss   dfl_loss  Instances       Size\n"
     ]
    },
    {
     "name": "stderr",
     "output_type": "stream",
     "text": [
      "      45/50         0G     0.5328     0.8879      1.078          2        640: 100%|██████████| 7/7 [00:39<00:00,  5.58s/it]\n",
      "                 Class     Images  Instances      Box(P          R      mAP50  mAP50-95): 100%|██████████| 1/1 [00:03<00:00,  3.85s/it]"
     ]
    },
    {
     "name": "stdout",
     "output_type": "stream",
     "text": [
      "                   all         25         28      0.981      0.821      0.954      0.859\n"
     ]
    },
    {
     "name": "stderr",
     "output_type": "stream",
     "text": [
      "\n"
     ]
    },
    {
     "name": "stdout",
     "output_type": "stream",
     "text": [
      "\n",
      "      Epoch    GPU_mem   box_loss   cls_loss   dfl_loss  Instances       Size\n"
     ]
    },
    {
     "name": "stderr",
     "output_type": "stream",
     "text": [
      "      46/50         0G     0.4415     0.7613      1.055          2        640: 100%|██████████| 7/7 [00:39<00:00,  5.61s/it]\n",
      "                 Class     Images  Instances      Box(P          R      mAP50  mAP50-95): 100%|██████████| 1/1 [00:03<00:00,  3.69s/it]"
     ]
    },
    {
     "name": "stdout",
     "output_type": "stream",
     "text": [
      "                   all         25         28      0.953      0.821      0.966       0.87\n"
     ]
    },
    {
     "name": "stderr",
     "output_type": "stream",
     "text": [
      "\n"
     ]
    },
    {
     "name": "stdout",
     "output_type": "stream",
     "text": [
      "\n",
      "      Epoch    GPU_mem   box_loss   cls_loss   dfl_loss  Instances       Size\n"
     ]
    },
    {
     "name": "stderr",
     "output_type": "stream",
     "text": [
      "      47/50         0G     0.4443     0.7815      1.021          2        640: 100%|██████████| 7/7 [00:38<00:00,  5.54s/it]\n",
      "                 Class     Images  Instances      Box(P          R      mAP50  mAP50-95): 100%|██████████| 1/1 [00:03<00:00,  3.87s/it]"
     ]
    },
    {
     "name": "stdout",
     "output_type": "stream",
     "text": [
      "                   all         25         28      0.952      0.859      0.965      0.865\n"
     ]
    },
    {
     "name": "stderr",
     "output_type": "stream",
     "text": [
      "\n"
     ]
    },
    {
     "name": "stdout",
     "output_type": "stream",
     "text": [
      "\n",
      "      Epoch    GPU_mem   box_loss   cls_loss   dfl_loss  Instances       Size\n"
     ]
    },
    {
     "name": "stderr",
     "output_type": "stream",
     "text": [
      "      48/50         0G     0.4182     0.8426     0.9703          2        640: 100%|██████████| 7/7 [00:39<00:00,  5.66s/it]\n",
      "                 Class     Images  Instances      Box(P          R      mAP50  mAP50-95): 100%|██████████| 1/1 [00:03<00:00,  3.79s/it]"
     ]
    },
    {
     "name": "stdout",
     "output_type": "stream",
     "text": [
      "                   all         25         28      0.945      0.875      0.965      0.885\n"
     ]
    },
    {
     "name": "stderr",
     "output_type": "stream",
     "text": [
      "\n"
     ]
    },
    {
     "name": "stdout",
     "output_type": "stream",
     "text": [
      "\n",
      "      Epoch    GPU_mem   box_loss   cls_loss   dfl_loss  Instances       Size\n"
     ]
    },
    {
     "name": "stderr",
     "output_type": "stream",
     "text": [
      "      49/50         0G     0.3924     0.7492      1.011          2        640: 100%|██████████| 7/7 [00:39<00:00,  5.58s/it]\n",
      "                 Class     Images  Instances      Box(P          R      mAP50  mAP50-95): 100%|██████████| 1/1 [00:03<00:00,  3.48s/it]"
     ]
    },
    {
     "name": "stdout",
     "output_type": "stream",
     "text": [
      "                   all         25         28      0.911      0.887      0.964      0.884\n"
     ]
    },
    {
     "name": "stderr",
     "output_type": "stream",
     "text": [
      "\n"
     ]
    },
    {
     "name": "stdout",
     "output_type": "stream",
     "text": [
      "\n",
      "      Epoch    GPU_mem   box_loss   cls_loss   dfl_loss  Instances       Size\n"
     ]
    },
    {
     "name": "stderr",
     "output_type": "stream",
     "text": [
      "      50/50         0G     0.3778     0.6932     0.9153          2        640: 100%|██████████| 7/7 [00:39<00:00,  5.63s/it]\n",
      "                 Class     Images  Instances      Box(P          R      mAP50  mAP50-95): 100%|██████████| 1/1 [00:03<00:00,  3.66s/it]"
     ]
    },
    {
     "name": "stdout",
     "output_type": "stream",
     "text": [
      "                   all         25         28      0.927      0.913      0.967      0.874\n"
     ]
    },
    {
     "name": "stderr",
     "output_type": "stream",
     "text": [
      "\n"
     ]
    },
    {
     "name": "stdout",
     "output_type": "stream",
     "text": [
      "\n",
      "50 epochs completed in 0.612 hours.\n",
      "Optimizer stripped from runs\\detect\\train6\\weights\\last.pt, 6.3MB\n",
      "Optimizer stripped from runs\\detect\\train6\\weights\\best.pt, 6.3MB\n",
      "\n",
      "Validating runs\\detect\\train6\\weights\\best.pt...\n",
      "Ultralytics YOLOv8.1.24 🚀 Python-3.9.18 torch-2.2.1+cpu CPU (Intel Core(TM) i7-7700HQ 2.80GHz)\n",
      "Model summary (fused): 168 layers, 3006038 parameters, 0 gradients, 8.1 GFLOPs\n"
     ]
    },
    {
     "name": "stderr",
     "output_type": "stream",
     "text": [
      "                 Class     Images  Instances      Box(P          R      mAP50  mAP50-95): 100%|██████████| 1/1 [00:03<00:00,  3.51s/it]\n"
     ]
    },
    {
     "name": "stdout",
     "output_type": "stream",
     "text": [
      "                   all         25         28      0.946      0.873      0.965      0.885\n",
      "               cabbage         25         14      0.979          1      0.995       0.91\n",
      "          haft-cabbage         25         14      0.913      0.747      0.936       0.86\n",
      "Speed: 1.5ms preprocess, 126.5ms inference, 0.0ms loss, 2.8ms postprocess per image\n",
      "Results saved to \u001B[1mruns\\detect\\train6\u001B[0m\n"
     ]
    },
    {
     "ename": "ImportError",
     "evalue": "DLL load failed while importing lapack_lite: 지정된 모듈을 찾을 수 없습니다.",
     "output_type": "error",
     "traceback": [
      "\u001B[1;31m---------------------------------------------------------------------------\u001B[0m",
      "\u001B[1;31mImportError\u001B[0m                               Traceback (most recent call last)",
      "Cell \u001B[1;32mIn[30], line 1\u001B[0m\n\u001B[1;32m----> 1\u001B[0m \u001B[43mmodel_cab\u001B[49m\u001B[38;5;241;43m.\u001B[39;49m\u001B[43mtrain\u001B[49m\u001B[43m(\u001B[49m\u001B[43mdata\u001B[49m\u001B[38;5;241;43m=\u001B[39;49m\u001B[38;5;124;43m'\u001B[39;49m\u001B[38;5;124;43mC:/Users/BSJ/PycharmProjects/pythonProject1/yolov8/cabbage/cabbage.v1i.yolov8/cabbage.yaml\u001B[39;49m\u001B[38;5;124;43m'\u001B[39;49m\u001B[43m,\u001B[49m\u001B[43m \u001B[49m\u001B[43mepochs\u001B[49m\u001B[38;5;241;43m=\u001B[39;49m\u001B[38;5;241;43m50\u001B[39;49m\u001B[43m,\u001B[49m\u001B[43m \u001B[49m\u001B[43mpatience\u001B[49m\u001B[38;5;241;43m=\u001B[39;49m\u001B[38;5;241;43m30\u001B[39;49m\u001B[43m,\u001B[49m\u001B[43m \u001B[49m\u001B[43mimgsz\u001B[49m\u001B[38;5;241;43m=\u001B[39;49m\u001B[38;5;241;43m640\u001B[39;49m\u001B[43m)\u001B[49m\n",
      "File \u001B[1;32m~\\.conda\\envs\\pythonProject1\\lib\\site-packages\\ultralytics\\engine\\model.py:654\u001B[0m, in \u001B[0;36mModel.train\u001B[1;34m(self, trainer, **kwargs)\u001B[0m\n\u001B[0;32m    651\u001B[0m             \u001B[38;5;28;01mpass\u001B[39;00m\n\u001B[0;32m    653\u001B[0m \u001B[38;5;28mself\u001B[39m\u001B[38;5;241m.\u001B[39mtrainer\u001B[38;5;241m.\u001B[39mhub_session \u001B[38;5;241m=\u001B[39m \u001B[38;5;28mself\u001B[39m\u001B[38;5;241m.\u001B[39msession  \u001B[38;5;66;03m# attach optional HUB session\u001B[39;00m\n\u001B[1;32m--> 654\u001B[0m \u001B[38;5;28;43mself\u001B[39;49m\u001B[38;5;241;43m.\u001B[39;49m\u001B[43mtrainer\u001B[49m\u001B[38;5;241;43m.\u001B[39;49m\u001B[43mtrain\u001B[49m\u001B[43m(\u001B[49m\u001B[43m)\u001B[49m\n\u001B[0;32m    655\u001B[0m \u001B[38;5;66;03m# Update model and cfg after training\u001B[39;00m\n\u001B[0;32m    656\u001B[0m \u001B[38;5;28;01mif\u001B[39;00m RANK \u001B[38;5;129;01min\u001B[39;00m (\u001B[38;5;241m-\u001B[39m\u001B[38;5;241m1\u001B[39m, \u001B[38;5;241m0\u001B[39m):\n",
      "File \u001B[1;32m~\\.conda\\envs\\pythonProject1\\lib\\site-packages\\ultralytics\\engine\\trainer.py:208\u001B[0m, in \u001B[0;36mBaseTrainer.train\u001B[1;34m(self)\u001B[0m\n\u001B[0;32m    205\u001B[0m         ddp_cleanup(\u001B[38;5;28mself\u001B[39m, \u001B[38;5;28mstr\u001B[39m(file))\n\u001B[0;32m    207\u001B[0m \u001B[38;5;28;01melse\u001B[39;00m:\n\u001B[1;32m--> 208\u001B[0m     \u001B[38;5;28;43mself\u001B[39;49m\u001B[38;5;241;43m.\u001B[39;49m\u001B[43m_do_train\u001B[49m\u001B[43m(\u001B[49m\u001B[43mworld_size\u001B[49m\u001B[43m)\u001B[49m\n",
      "File \u001B[1;32m~\\.conda\\envs\\pythonProject1\\lib\\site-packages\\ultralytics\\engine\\trainer.py:468\u001B[0m, in \u001B[0;36mBaseTrainer._do_train\u001B[1;34m(self, world_size)\u001B[0m\n\u001B[0;32m    466\u001B[0m     \u001B[38;5;28mself\u001B[39m\u001B[38;5;241m.\u001B[39mfinal_eval()\n\u001B[0;32m    467\u001B[0m     \u001B[38;5;28;01mif\u001B[39;00m \u001B[38;5;28mself\u001B[39m\u001B[38;5;241m.\u001B[39margs\u001B[38;5;241m.\u001B[39mplots:\n\u001B[1;32m--> 468\u001B[0m         \u001B[38;5;28;43mself\u001B[39;49m\u001B[38;5;241;43m.\u001B[39;49m\u001B[43mplot_metrics\u001B[49m\u001B[43m(\u001B[49m\u001B[43m)\u001B[49m\n\u001B[0;32m    469\u001B[0m     \u001B[38;5;28mself\u001B[39m\u001B[38;5;241m.\u001B[39mrun_callbacks(\u001B[38;5;124m\"\u001B[39m\u001B[38;5;124mon_train_end\u001B[39m\u001B[38;5;124m\"\u001B[39m)\n\u001B[0;32m    470\u001B[0m torch\u001B[38;5;241m.\u001B[39mcuda\u001B[38;5;241m.\u001B[39mempty_cache()\n",
      "File \u001B[1;32m~\\.conda\\envs\\pythonProject1\\lib\\site-packages\\ultralytics\\models\\yolo\\detect\\train.py:137\u001B[0m, in \u001B[0;36mDetectionTrainer.plot_metrics\u001B[1;34m(self)\u001B[0m\n\u001B[0;32m    135\u001B[0m \u001B[38;5;28;01mdef\u001B[39;00m \u001B[38;5;21mplot_metrics\u001B[39m(\u001B[38;5;28mself\u001B[39m):\n\u001B[0;32m    136\u001B[0m \u001B[38;5;250m    \u001B[39m\u001B[38;5;124;03m\"\"\"Plots metrics from a CSV file.\"\"\"\u001B[39;00m\n\u001B[1;32m--> 137\u001B[0m     \u001B[43mplot_results\u001B[49m\u001B[43m(\u001B[49m\u001B[43mfile\u001B[49m\u001B[38;5;241;43m=\u001B[39;49m\u001B[38;5;28;43mself\u001B[39;49m\u001B[38;5;241;43m.\u001B[39;49m\u001B[43mcsv\u001B[49m\u001B[43m,\u001B[49m\u001B[43m \u001B[49m\u001B[43mon_plot\u001B[49m\u001B[38;5;241;43m=\u001B[39;49m\u001B[38;5;28;43mself\u001B[39;49m\u001B[38;5;241;43m.\u001B[39;49m\u001B[43mon_plot\u001B[49m\u001B[43m)\u001B[49m\n",
      "File \u001B[1;32m~\\.conda\\envs\\pythonProject1\\lib\\site-packages\\ultralytics\\utils\\__init__.py:220\u001B[0m, in \u001B[0;36mplt_settings.<locals>.decorator.<locals>.wrapper\u001B[1;34m(*args, **kwargs)\u001B[0m\n\u001B[0;32m    217\u001B[0m     plt\u001B[38;5;241m.\u001B[39mswitch_backend(backend)\n\u001B[0;32m    219\u001B[0m \u001B[38;5;28;01mwith\u001B[39;00m plt\u001B[38;5;241m.\u001B[39mrc_context(rcparams):\n\u001B[1;32m--> 220\u001B[0m     result \u001B[38;5;241m=\u001B[39m func(\u001B[38;5;241m*\u001B[39margs, \u001B[38;5;241m*\u001B[39m\u001B[38;5;241m*\u001B[39mkwargs)\n\u001B[0;32m    222\u001B[0m \u001B[38;5;28;01mif\u001B[39;00m backend \u001B[38;5;241m!=\u001B[39m original_backend:\n\u001B[0;32m    223\u001B[0m     plt\u001B[38;5;241m.\u001B[39mclose(\u001B[38;5;124m\"\u001B[39m\u001B[38;5;124mall\u001B[39m\u001B[38;5;124m\"\u001B[39m)\n",
      "File \u001B[1;32m~\\.conda\\envs\\pythonProject1\\lib\\site-packages\\ultralytics\\utils\\plotting.py:864\u001B[0m, in \u001B[0;36mplot_results\u001B[1;34m(file, dir, segment, pose, classify, on_plot)\u001B[0m\n\u001B[0;32m    843\u001B[0m \u001B[38;5;250m\u001B[39m\u001B[38;5;124;03m\"\"\"\u001B[39;00m\n\u001B[0;32m    844\u001B[0m \u001B[38;5;124;03mPlot training results from a results CSV file. The function supports various types of data including segmentation,\u001B[39;00m\n\u001B[0;32m    845\u001B[0m \u001B[38;5;124;03mpose estimation, and classification. Plots are saved as 'results.png' in the directory where the CSV is located.\u001B[39;00m\n\u001B[1;32m   (...)\u001B[0m\n\u001B[0;32m    861\u001B[0m \u001B[38;5;124;03m    ```\u001B[39;00m\n\u001B[0;32m    862\u001B[0m \u001B[38;5;124;03m\"\"\"\u001B[39;00m\n\u001B[0;32m    863\u001B[0m \u001B[38;5;28;01mimport\u001B[39;00m \u001B[38;5;21;01mpandas\u001B[39;00m \u001B[38;5;28;01mas\u001B[39;00m \u001B[38;5;21;01mpd\u001B[39;00m\n\u001B[1;32m--> 864\u001B[0m \u001B[38;5;28;01mfrom\u001B[39;00m \u001B[38;5;21;01mscipy\u001B[39;00m\u001B[38;5;21;01m.\u001B[39;00m\u001B[38;5;21;01mndimage\u001B[39;00m \u001B[38;5;28;01mimport\u001B[39;00m gaussian_filter1d\n\u001B[0;32m    866\u001B[0m save_dir \u001B[38;5;241m=\u001B[39m Path(file)\u001B[38;5;241m.\u001B[39mparent \u001B[38;5;28;01mif\u001B[39;00m file \u001B[38;5;28;01melse\u001B[39;00m Path(\u001B[38;5;28mdir\u001B[39m)\n\u001B[0;32m    867\u001B[0m \u001B[38;5;28;01mif\u001B[39;00m classify:\n",
      "File \u001B[1;32m~\\.conda\\envs\\pythonProject1\\lib\\site-packages\\scipy\\ndimage\\__init__.py:152\u001B[0m\n\u001B[0;32m      1\u001B[0m \u001B[38;5;124;03m\"\"\"\u001B[39;00m\n\u001B[0;32m      2\u001B[0m \u001B[38;5;124;03m=========================================================\u001B[39;00m\n\u001B[0;32m      3\u001B[0m \u001B[38;5;124;03mMultidimensional image processing (:mod:`scipy.ndimage`)\u001B[39;00m\n\u001B[1;32m   (...)\u001B[0m\n\u001B[0;32m    119\u001B[0m \n\u001B[0;32m    120\u001B[0m \u001B[38;5;124;03m\"\"\"\u001B[39;00m\n\u001B[0;32m    122\u001B[0m \u001B[38;5;66;03m# Copyright (C) 2003-2005 Peter J. Verveer\u001B[39;00m\n\u001B[0;32m    123\u001B[0m \u001B[38;5;66;03m#\u001B[39;00m\n\u001B[0;32m    124\u001B[0m \u001B[38;5;66;03m# Redistribution and use in source and binary forms, with or without\u001B[39;00m\n\u001B[1;32m   (...)\u001B[0m\n\u001B[0;32m    149\u001B[0m \u001B[38;5;66;03m# NEGLIGENCE OR OTHERWISE) ARISING IN ANY WAY OUT OF THE USE OF THIS\u001B[39;00m\n\u001B[0;32m    150\u001B[0m \u001B[38;5;66;03m# SOFTWARE, EVEN IF ADVISED OF THE POSSIBILITY OF SUCH DAMAGE.\u001B[39;00m\n\u001B[1;32m--> 152\u001B[0m \u001B[38;5;28;01mfrom\u001B[39;00m \u001B[38;5;21;01m.\u001B[39;00m\u001B[38;5;21;01m_filters\u001B[39;00m \u001B[38;5;28;01mimport\u001B[39;00m \u001B[38;5;241m*\u001B[39m\n\u001B[0;32m    153\u001B[0m \u001B[38;5;28;01mfrom\u001B[39;00m \u001B[38;5;21;01m.\u001B[39;00m\u001B[38;5;21;01m_fourier\u001B[39;00m \u001B[38;5;28;01mimport\u001B[39;00m \u001B[38;5;241m*\u001B[39m\n\u001B[0;32m    154\u001B[0m \u001B[38;5;28;01mfrom\u001B[39;00m \u001B[38;5;21;01m.\u001B[39;00m\u001B[38;5;21;01m_interpolation\u001B[39;00m \u001B[38;5;28;01mimport\u001B[39;00m \u001B[38;5;241m*\u001B[39m\n",
      "File \u001B[1;32m~\\.conda\\envs\\pythonProject1\\lib\\site-packages\\scipy\\ndimage\\_filters.py:37\u001B[0m\n\u001B[0;32m     34\u001B[0m \u001B[38;5;28;01mimport\u001B[39;00m \u001B[38;5;21;01mnumpy\u001B[39;00m\n\u001B[0;32m     35\u001B[0m \u001B[38;5;28;01mimport\u001B[39;00m \u001B[38;5;21;01moperator\u001B[39;00m\n\u001B[1;32m---> 37\u001B[0m \u001B[38;5;28;01mfrom\u001B[39;00m \u001B[38;5;21;01mscipy\u001B[39;00m\u001B[38;5;21;01m.\u001B[39;00m\u001B[38;5;21;01m_lib\u001B[39;00m\u001B[38;5;21;01m.\u001B[39;00m\u001B[38;5;21;01m_util\u001B[39;00m \u001B[38;5;28;01mimport\u001B[39;00m normalize_axis_index\n\u001B[0;32m     38\u001B[0m \u001B[38;5;28;01mfrom\u001B[39;00m \u001B[38;5;21;01m.\u001B[39;00m \u001B[38;5;28;01mimport\u001B[39;00m _ni_support\n\u001B[0;32m     39\u001B[0m \u001B[38;5;28;01mfrom\u001B[39;00m \u001B[38;5;21;01m.\u001B[39;00m \u001B[38;5;28;01mimport\u001B[39;00m _nd_image\n",
      "File \u001B[1;32m~\\.conda\\envs\\pythonProject1\\lib\\site-packages\\scipy\\_lib\\_util.py:18\u001B[0m\n\u001B[0;32m     10\u001B[0m \u001B[38;5;28;01mfrom\u001B[39;00m \u001B[38;5;21;01mtyping\u001B[39;00m \u001B[38;5;28;01mimport\u001B[39;00m (\n\u001B[0;32m     11\u001B[0m     Optional,\n\u001B[0;32m     12\u001B[0m     Union,\n\u001B[0;32m     13\u001B[0m     TYPE_CHECKING,\n\u001B[0;32m     14\u001B[0m     TypeVar,\n\u001B[0;32m     15\u001B[0m )\n\u001B[0;32m     17\u001B[0m \u001B[38;5;28;01mimport\u001B[39;00m \u001B[38;5;21;01mnumpy\u001B[39;00m \u001B[38;5;28;01mas\u001B[39;00m \u001B[38;5;21;01mnp\u001B[39;00m\n\u001B[1;32m---> 18\u001B[0m \u001B[38;5;28;01mfrom\u001B[39;00m \u001B[38;5;21;01mscipy\u001B[39;00m\u001B[38;5;21;01m.\u001B[39;00m\u001B[38;5;21;01m_lib\u001B[39;00m\u001B[38;5;21;01m.\u001B[39;00m\u001B[38;5;21;01m_array_api\u001B[39;00m \u001B[38;5;28;01mimport\u001B[39;00m array_namespace\n\u001B[0;32m     21\u001B[0m AxisError: \u001B[38;5;28mtype\u001B[39m[\u001B[38;5;167;01mException\u001B[39;00m]\n\u001B[0;32m     22\u001B[0m ComplexWarning: \u001B[38;5;28mtype\u001B[39m[\u001B[38;5;167;01mWarning\u001B[39;00m]\n",
      "File \u001B[1;32m~\\.conda\\envs\\pythonProject1\\lib\\site-packages\\scipy\\_lib\\_array_api.py:15\u001B[0m\n\u001B[0;32m     12\u001B[0m \u001B[38;5;28;01mimport\u001B[39;00m \u001B[38;5;21;01mwarnings\u001B[39;00m\n\u001B[0;32m     14\u001B[0m \u001B[38;5;28;01mimport\u001B[39;00m \u001B[38;5;21;01mnumpy\u001B[39;00m \u001B[38;5;28;01mas\u001B[39;00m \u001B[38;5;21;01mnp\u001B[39;00m\n\u001B[1;32m---> 15\u001B[0m \u001B[38;5;28;01mfrom\u001B[39;00m \u001B[38;5;21;01mnumpy\u001B[39;00m\u001B[38;5;21;01m.\u001B[39;00m\u001B[38;5;21;01mtesting\u001B[39;00m \u001B[38;5;28;01mimport\u001B[39;00m assert_\n\u001B[0;32m     16\u001B[0m \u001B[38;5;28;01mimport\u001B[39;00m \u001B[38;5;21;01mscipy\u001B[39;00m\u001B[38;5;21;01m.\u001B[39;00m\u001B[38;5;21;01m_lib\u001B[39;00m\u001B[38;5;21;01m.\u001B[39;00m\u001B[38;5;21;01marray_api_compat\u001B[39;00m\u001B[38;5;21;01m.\u001B[39;00m\u001B[38;5;21;01marray_api_compat\u001B[39;00m \u001B[38;5;28;01mas\u001B[39;00m \u001B[38;5;21;01marray_api_compat\u001B[39;00m\n\u001B[0;32m     17\u001B[0m \u001B[38;5;28;01mfrom\u001B[39;00m \u001B[38;5;21;01mscipy\u001B[39;00m\u001B[38;5;21;01m.\u001B[39;00m\u001B[38;5;21;01m_lib\u001B[39;00m\u001B[38;5;21;01m.\u001B[39;00m\u001B[38;5;21;01marray_api_compat\u001B[39;00m\u001B[38;5;21;01m.\u001B[39;00m\u001B[38;5;21;01marray_api_compat\u001B[39;00m \u001B[38;5;28;01mimport\u001B[39;00m size\n",
      "File \u001B[1;32m~\\.conda\\envs\\pythonProject1\\lib\\site-packages\\numpy\\testing\\__init__.py:10\u001B[0m\n\u001B[0;32m      1\u001B[0m \u001B[38;5;124;03m\"\"\"Common test support for all numpy test scripts.\u001B[39;00m\n\u001B[0;32m      2\u001B[0m \n\u001B[0;32m      3\u001B[0m \u001B[38;5;124;03mThis single module should provide all the common functionality for numpy tests\u001B[39;00m\n\u001B[1;32m   (...)\u001B[0m\n\u001B[0;32m      6\u001B[0m \n\u001B[0;32m      7\u001B[0m \u001B[38;5;124;03m\"\"\"\u001B[39;00m\n\u001B[0;32m      8\u001B[0m \u001B[38;5;28;01mfrom\u001B[39;00m \u001B[38;5;21;01munittest\u001B[39;00m \u001B[38;5;28;01mimport\u001B[39;00m TestCase\n\u001B[1;32m---> 10\u001B[0m \u001B[38;5;28;01mfrom\u001B[39;00m \u001B[38;5;21;01m.\u001B[39;00m\u001B[38;5;21;01m_private\u001B[39;00m\u001B[38;5;21;01m.\u001B[39;00m\u001B[38;5;21;01mutils\u001B[39;00m \u001B[38;5;28;01mimport\u001B[39;00m \u001B[38;5;241m*\u001B[39m\n\u001B[0;32m     11\u001B[0m \u001B[38;5;28;01mfrom\u001B[39;00m \u001B[38;5;21;01m.\u001B[39;00m\u001B[38;5;21;01m_private\u001B[39;00m \u001B[38;5;28;01mimport\u001B[39;00m decorators \u001B[38;5;28;01mas\u001B[39;00m dec\n\u001B[0;32m     12\u001B[0m \u001B[38;5;28;01mfrom\u001B[39;00m \u001B[38;5;21;01m.\u001B[39;00m\u001B[38;5;21;01m_private\u001B[39;00m\u001B[38;5;21;01m.\u001B[39;00m\u001B[38;5;21;01mnosetester\u001B[39;00m \u001B[38;5;28;01mimport\u001B[39;00m (\n\u001B[0;32m     13\u001B[0m     run_module_suite, NoseTester \u001B[38;5;28;01mas\u001B[39;00m Tester\n\u001B[0;32m     14\u001B[0m     )\n",
      "File \u001B[1;32m~\\.conda\\envs\\pythonProject1\\lib\\site-packages\\numpy\\testing\\_private\\utils.py:22\u001B[0m\n\u001B[0;32m     18\u001B[0m \u001B[38;5;28;01mimport\u001B[39;00m \u001B[38;5;21;01mpprint\u001B[39;00m\n\u001B[0;32m     20\u001B[0m \u001B[38;5;28;01mfrom\u001B[39;00m \u001B[38;5;21;01mnumpy\u001B[39;00m\u001B[38;5;21;01m.\u001B[39;00m\u001B[38;5;21;01mcore\u001B[39;00m \u001B[38;5;28;01mimport\u001B[39;00m(\n\u001B[0;32m     21\u001B[0m      intp, float32, empty, arange, array_repr, ndarray, isnat, array)\n\u001B[1;32m---> 22\u001B[0m \u001B[38;5;28;01mimport\u001B[39;00m \u001B[38;5;21;01mnumpy\u001B[39;00m\u001B[38;5;21;01m.\u001B[39;00m\u001B[38;5;21;01mlinalg\u001B[39;00m\u001B[38;5;21;01m.\u001B[39;00m\u001B[38;5;21;01mlapack_lite\u001B[39;00m\n\u001B[0;32m     24\u001B[0m \u001B[38;5;28;01mfrom\u001B[39;00m \u001B[38;5;21;01mio\u001B[39;00m \u001B[38;5;28;01mimport\u001B[39;00m StringIO\n\u001B[0;32m     26\u001B[0m __all__ \u001B[38;5;241m=\u001B[39m [\n\u001B[0;32m     27\u001B[0m         \u001B[38;5;124m'\u001B[39m\u001B[38;5;124massert_equal\u001B[39m\u001B[38;5;124m'\u001B[39m, \u001B[38;5;124m'\u001B[39m\u001B[38;5;124massert_almost_equal\u001B[39m\u001B[38;5;124m'\u001B[39m, \u001B[38;5;124m'\u001B[39m\u001B[38;5;124massert_approx_equal\u001B[39m\u001B[38;5;124m'\u001B[39m,\n\u001B[0;32m     28\u001B[0m         \u001B[38;5;124m'\u001B[39m\u001B[38;5;124massert_array_equal\u001B[39m\u001B[38;5;124m'\u001B[39m, \u001B[38;5;124m'\u001B[39m\u001B[38;5;124massert_array_less\u001B[39m\u001B[38;5;124m'\u001B[39m, \u001B[38;5;124m'\u001B[39m\u001B[38;5;124massert_string_equal\u001B[39m\u001B[38;5;124m'\u001B[39m,\n\u001B[1;32m   (...)\u001B[0m\n\u001B[0;32m     38\u001B[0m         \u001B[38;5;124m'\u001B[39m\u001B[38;5;124mbreak_cycles\u001B[39m\u001B[38;5;124m'\u001B[39m, \u001B[38;5;124m'\u001B[39m\u001B[38;5;124mHAS_LAPACK64\u001B[39m\u001B[38;5;124m'\u001B[39m\n\u001B[0;32m     39\u001B[0m         ]\n",
      "\u001B[1;31mImportError\u001B[0m: DLL load failed while importing lapack_lite: 지정된 모듈을 찾을 수 없습니다."
     ]
    }
   ],
   "source": [
    "model_cab.train(data='C:/Users/BSJ/PycharmProjects/pythonProject1/yolov8/cabbage/cabbage.v1i.yolov8/cabbage.yaml', epochs=50, patience=30, imgsz=640)"
   ],
   "metadata": {
    "collapsed": false,
    "ExecuteTime": {
     "end_time": "2024-03-08T03:03:17.416134Z",
     "start_time": "2024-03-08T02:26:20.962991Z"
    }
   },
   "id": "559db224203a6b51",
   "execution_count": 30
  },
  {
   "cell_type": "code",
   "outputs": [
    {
     "name": "stdout",
     "output_type": "stream",
     "text": [
      "<class 'dict'> 2\n",
      "{0: 'cabbage', 1: 'haft-cabbage'}\n"
     ]
    }
   ],
   "source": [
    "print(type(model_cab.names), len(model_cab.names))\n",
    "print(model_cab.names)"
   ],
   "metadata": {
    "collapsed": false,
    "ExecuteTime": {
     "end_time": "2024-03-08T03:07:48.494920Z",
     "start_time": "2024-03-08T03:07:48.473834Z"
    }
   },
   "id": "833de1a5870e0a97",
   "execution_count": 31
  },
  {
   "cell_type": "code",
   "outputs": [
    {
     "name": "stdout",
     "output_type": "stream",
     "text": [
      "image 1/19 C:\\Users\\BSJ\\PycharmProjects\\pythonProject1\\yolov8\\cabbage\\cabbage.v1i.yolov8\\test\\images\\IMG_0459_JPG.rf.3c0ec3114910b2f71df746a3b0814e25.jpg: 640x640 1 cabbage, 165.6ms\n",
      "image 2/19 C:\\Users\\BSJ\\PycharmProjects\\pythonProject1\\yolov8\\cabbage\\cabbage.v1i.yolov8\\test\\images\\IMG_0463_JPG.rf.bd2b6be71ce39d23af2eac618052655b.jpg: 640x640 1 cabbage, 161.6ms\n",
      "image 3/19 C:\\Users\\BSJ\\PycharmProjects\\pythonProject1\\yolov8\\cabbage\\cabbage.v1i.yolov8\\test\\images\\IMG_0549_JPG.rf.2e0a1ba3d6710c2b63d865b7c3665256.jpg: 640x640 1 cabbage, 156.6ms\n",
      "image 4/19 C:\\Users\\BSJ\\PycharmProjects\\pythonProject1\\yolov8\\cabbage\\cabbage.v1i.yolov8\\test\\images\\IMG_0554_JPG.rf.fd82fbfa4b71a327f4691787a51e8ade.jpg: 640x640 1 cabbage, 134.6ms\n",
      "image 5/19 C:\\Users\\BSJ\\PycharmProjects\\pythonProject1\\yolov8\\cabbage\\cabbage.v1i.yolov8\\test\\images\\IMG_0558_JPG.rf.beba7c604620546dde68da7db446237e.jpg: 640x640 1 cabbage, 123.7ms\n",
      "image 6/19 C:\\Users\\BSJ\\PycharmProjects\\pythonProject1\\yolov8\\cabbage\\cabbage.v1i.yolov8\\test\\images\\IMG_0627_JPG.rf.37c85c19fe1bf1f95d7cfae54e64d8ca.jpg: 640x640 1 haft-cabbage, 119.7ms\n",
      "image 7/19 C:\\Users\\BSJ\\PycharmProjects\\pythonProject1\\yolov8\\cabbage\\cabbage.v1i.yolov8\\test\\images\\IMG_0628_JPG.rf.34bfdaaf919b86dcf73d2f6f76038d10.jpg: 640x640 1 haft-cabbage, 161.6ms\n",
      "image 8/19 C:\\Users\\BSJ\\PycharmProjects\\pythonProject1\\yolov8\\cabbage\\cabbage.v1i.yolov8\\test\\images\\IMG_0630_JPG.rf.03bccce82df7d8608b69fa29f44bd94a.jpg: 640x640 1 haft-cabbage, 121.7ms\n",
      "image 9/19 C:\\Users\\BSJ\\PycharmProjects\\pythonProject1\\yolov8\\cabbage\\cabbage.v1i.yolov8\\test\\images\\IMG_0678_JPG.rf.468f59b89136d3993697c0e858d7d1d0.jpg: 640x640 1 cabbage, 1 haft-cabbage, 128.7ms\n",
      "image 10/19 C:\\Users\\BSJ\\PycharmProjects\\pythonProject1\\yolov8\\cabbage\\cabbage.v1i.yolov8\\test\\images\\IMG_0685_JPG.rf.e83caf41a42acd5e51c5fd1aad3ddd78.jpg: 640x640 1 cabbage, 147.6ms\n",
      "image 11/19 C:\\Users\\BSJ\\PycharmProjects\\pythonProject1\\yolov8\\cabbage\\cabbage.v1i.yolov8\\test\\images\\IMG_0760_JPG.rf.1a2bbd42e97ef3e9beb2975ef1ec42bf.jpg: 640x640 1 cabbage, 123.7ms\n",
      "image 12/19 C:\\Users\\BSJ\\PycharmProjects\\pythonProject1\\yolov8\\cabbage\\cabbage.v1i.yolov8\\test\\images\\cabbage-11-1-_jpg.rf.76de49b2610b0c1a1cfaf2f4216c3953.jpg: 640x640 1 cabbage, 131.7ms\n",
      "image 13/19 C:\\Users\\BSJ\\PycharmProjects\\pythonProject1\\yolov8\\cabbage\\cabbage.v1i.yolov8\\test\\images\\cabbagehalf_a0002-1-_jpg.rf.e1f4eb67fd8acbb8d7ddb2d91cc227fe.jpg: 640x640 2 haft-cabbages, 143.6ms\n",
      "image 14/19 C:\\Users\\BSJ\\PycharmProjects\\pythonProject1\\yolov8\\cabbage\\cabbage.v1i.yolov8\\test\\images\\cabbagehalf_b0008_jpg.rf.bc002a11f2e39e5bb70a37e39a38a3b2.jpg: 640x640 1 cabbage, 1 haft-cabbage, 128.7ms\n",
      "image 15/19 C:\\Users\\BSJ\\PycharmProjects\\pythonProject1\\yolov8\\cabbage\\cabbage.v1i.yolov8\\test\\images\\cabbageslice-5_jpg.rf.19050fd1be0a519485f3998a872f9e9d.jpg: 640x640 1 haft-cabbage, 115.7ms\n",
      "image 16/19 C:\\Users\\BSJ\\PycharmProjects\\pythonProject1\\yolov8\\cabbage\\cabbage.v1i.yolov8\\test\\images\\depositphotos_318502804-stock-photo-cabbage-in-woman-hand-isolated_jpg.rf.16a10e7f500251f6c4954da7eb92fe17.jpg: 640x640 1 cabbage, 122.7ms\n",
      "image 17/19 C:\\Users\\BSJ\\PycharmProjects\\pythonProject1\\yolov8\\cabbage\\cabbage.v1i.yolov8\\test\\images\\focused_222926436-stock-photo-man-holding-cabbage-front-face_jpg.rf.9c1605602ef8a71e3fbafb3e8d6ec5db.jpg: 640x640 1 cabbage, 123.7ms\n",
      "image 18/19 C:\\Users\\BSJ\\PycharmProjects\\pythonProject1\\yolov8\\cabbage\\cabbage.v1i.yolov8\\test\\images\\saladgreenscollection33dmodel041_jpg.rf.efd104c570ec70ac320e022b4f20d902.jpg: 640x640 1 cabbage, 136.6ms\n",
      "image 19/19 C:\\Users\\BSJ\\PycharmProjects\\pythonProject1\\yolov8\\cabbage\\cabbage.v1i.yolov8\\test\\images\\stemcell_cinema_4d_arnold_render_jpg.rf.16802dbe4eaddf227cd58e64d4cf801d.jpg: 640x640 2 cabbages, 2 haft-cabbages, 139.6ms\n",
      "Speed: 4.1ms preprocess, 136.2ms inference, 1.3ms postprocess per image at shape (1, 3, 640, 640)\n",
      "Results saved to \u001B[1mruns\\detect\\predict\u001B[0m\n"
     ]
    }
   ],
   "source": [
    "results = model_cab.predict(source='C:/Users/BSJ/PycharmProjects/pythonProject1/yolov8/cabbage/cabbage.v1i.yolov8/test/images/', save=True)"
   ],
   "metadata": {
    "collapsed": false,
    "ExecuteTime": {
     "end_time": "2024-03-08T03:07:57.534936Z",
     "start_time": "2024-03-08T03:07:52.589166Z"
    }
   },
   "id": "272992ee5f47d8e2",
   "execution_count": 32
  },
  {
   "cell_type": "code",
   "outputs": [
    {
     "name": "stdout",
     "output_type": "stream",
     "text": [
      "image 1/20 C:\\Users\\BSJ\\PycharmProjects\\pythonProject1\\yolov8\\cabbage\\cabbage.v1i.yolov8\\cabbage_image\\1.jpg: 512x640 (no detections), 145.6ms\n",
      "image 2/20 C:\\Users\\BSJ\\PycharmProjects\\pythonProject1\\yolov8\\cabbage\\cabbage.v1i.yolov8\\cabbage_image\\10.jpg: 320x640 3 haft-cabbages, 99.7ms\n",
      "image 3/20 C:\\Users\\BSJ\\PycharmProjects\\pythonProject1\\yolov8\\cabbage\\cabbage.v1i.yolov8\\cabbage_image\\11.jpg: 640x640 3 cabbages, 1 haft-cabbage, 160.6ms\n",
      "image 4/20 C:\\Users\\BSJ\\PycharmProjects\\pythonProject1\\yolov8\\cabbage\\cabbage.v1i.yolov8\\cabbage_image\\12.jpg: 448x640 4 cabbages, 119.7ms\n",
      "image 5/20 C:\\Users\\BSJ\\PycharmProjects\\pythonProject1\\yolov8\\cabbage\\cabbage.v1i.yolov8\\cabbage_image\\13.jpg: 448x640 (no detections), 102.7ms\n",
      "image 6/20 C:\\Users\\BSJ\\PycharmProjects\\pythonProject1\\yolov8\\cabbage\\cabbage.v1i.yolov8\\cabbage_image\\14.jpg: 480x640 5 cabbages, 103.7ms\n",
      "image 7/20 C:\\Users\\BSJ\\PycharmProjects\\pythonProject1\\yolov8\\cabbage\\cabbage.v1i.yolov8\\cabbage_image\\15.jpg: 448x640 12 cabbages, 100.7ms\n",
      "image 8/20 C:\\Users\\BSJ\\PycharmProjects\\pythonProject1\\yolov8\\cabbage\\cabbage.v1i.yolov8\\cabbage_image\\16.jpg: 480x640 (no detections), 120.7ms\n",
      "image 9/20 C:\\Users\\BSJ\\PycharmProjects\\pythonProject1\\yolov8\\cabbage\\cabbage.v1i.yolov8\\cabbage_image\\17.jpg: 544x640 2 cabbages, 127.7ms\n",
      "image 10/20 C:\\Users\\BSJ\\PycharmProjects\\pythonProject1\\yolov8\\cabbage\\cabbage.v1i.yolov8\\cabbage_image\\18.jpg: 416x640 1 haft-cabbage, 94.7ms\n",
      "image 11/20 C:\\Users\\BSJ\\PycharmProjects\\pythonProject1\\yolov8\\cabbage\\cabbage.v1i.yolov8\\cabbage_image\\19.jpg: 480x640 1 cabbage, 110.7ms\n",
      "image 12/20 C:\\Users\\BSJ\\PycharmProjects\\pythonProject1\\yolov8\\cabbage\\cabbage.v1i.yolov8\\cabbage_image\\2.jpg: 448x640 1 cabbage, 93.8ms\n",
      "image 13/20 C:\\Users\\BSJ\\PycharmProjects\\pythonProject1\\yolov8\\cabbage\\cabbage.v1i.yolov8\\cabbage_image\\20.jpg: 448x640 1 cabbage, 115.7ms\n",
      "image 14/20 C:\\Users\\BSJ\\PycharmProjects\\pythonProject1\\yolov8\\cabbage\\cabbage.v1i.yolov8\\cabbage_image\\3.jpg: 480x640 1 cabbage, 123.7ms\n",
      "image 15/20 C:\\Users\\BSJ\\PycharmProjects\\pythonProject1\\yolov8\\cabbage\\cabbage.v1i.yolov8\\cabbage_image\\4.jpg: 544x640 1 haft-cabbage, 130.6ms\n",
      "image 16/20 C:\\Users\\BSJ\\PycharmProjects\\pythonProject1\\yolov8\\cabbage\\cabbage.v1i.yolov8\\cabbage_image\\5.jpg: 640x640 (no detections), 137.6ms\n",
      "image 17/20 C:\\Users\\BSJ\\PycharmProjects\\pythonProject1\\yolov8\\cabbage\\cabbage.v1i.yolov8\\cabbage_image\\6.jpg: 448x640 4 cabbages, 120.7ms\n",
      "image 18/20 C:\\Users\\BSJ\\PycharmProjects\\pythonProject1\\yolov8\\cabbage\\cabbage.v1i.yolov8\\cabbage_image\\7.jpg: 576x640 1 cabbage, 112.7ms\n",
      "image 19/20 C:\\Users\\BSJ\\PycharmProjects\\pythonProject1\\yolov8\\cabbage\\cabbage.v1i.yolov8\\cabbage_image\\8.jpg: 448x640 1 cabbage, 105.7ms\n",
      "image 20/20 C:\\Users\\BSJ\\PycharmProjects\\pythonProject1\\yolov8\\cabbage\\cabbage.v1i.yolov8\\cabbage_image\\9.jpg: 480x640 1 cabbage, 116.7ms\n",
      "Speed: 3.3ms preprocess, 117.2ms inference, 1.3ms postprocess per image at shape (1, 3, 480, 640)\n",
      "Results saved to \u001B[1mruns\\detect\\predict\u001B[0m\n"
     ]
    }
   ],
   "source": [
    "results = model_cab.predict(source='C:/Users/BSJ/PycharmProjects/pythonProject1/yolov8/cabbage/cabbage.v1i.yolov8/cabbage_image', conf=0.6, imgsz=640, save=True)"
   ],
   "metadata": {
    "collapsed": false,
    "ExecuteTime": {
     "end_time": "2024-03-08T04:05:15.921499Z",
     "start_time": "2024-03-08T04:05:12.996323Z"
    }
   },
   "id": "3a6bdb602c13fabb",
   "execution_count": 36
  },
  {
   "cell_type": "code",
   "outputs": [],
   "source": [],
   "metadata": {
    "collapsed": false
   },
   "id": "2152e0a305ee1191"
  }
 ],
 "metadata": {
  "kernelspec": {
   "display_name": "Python 3",
   "language": "python",
   "name": "python3"
  },
  "language_info": {
   "codemirror_mode": {
    "name": "ipython",
    "version": 2
   },
   "file_extension": ".py",
   "mimetype": "text/x-python",
   "name": "python",
   "nbconvert_exporter": "python",
   "pygments_lexer": "ipython2",
   "version": "2.7.6"
  }
 },
 "nbformat": 4,
 "nbformat_minor": 5
}
